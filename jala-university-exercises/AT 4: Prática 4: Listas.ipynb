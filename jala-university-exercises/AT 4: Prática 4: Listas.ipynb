{
 "cells": [
  {
   "cell_type": "markdown",
   "metadata": {},
   "source": [
    "Nos códigos abaixo, farei operações e utilizarei listas para fazer operações e outras atividades práticas."
   ]
  },
  {
   "cell_type": "code",
   "execution_count": 2,
   "metadata": {},
   "outputs": [
    {
     "name": "stdout",
     "output_type": "stream",
     "text": [
      "['10', '20', '30']\n"
     ]
    }
   ],
   "source": [
    "aList = []\n",
    "\n",
    "rang = int(input(\"Type the range of the list: \"))\n",
    "\n",
    "for i in range(0, rang):\n",
    "    aList.append(input(f\"Type the value for list index {i.__index__()}: \"))\n",
    "    \n",
    "print(aList)"
   ]
  },
  {
   "cell_type": "markdown",
   "metadata": {},
   "source": [
    "No exemplo acima, criei uma lista com os tamanho escolhido pelo usuário e lhe dei a opção de preencher com quaisquer tipo de valores.\n",
    "Mais abaixo seguirei o raciocínio para desenvolver um carrinho de compras simples."
   ]
  },
  {
   "cell_type": "code",
   "execution_count": 3,
   "metadata": {},
   "outputs": [
    {
     "name": "stdout",
     "output_type": "stream",
     "text": [
      "['10', '20', '30']\n",
      "['10', '20', '30']\n",
      "['10', '20', '30']\n",
      "['10', '30']\n",
      "['10', '30', '20']\n"
     ]
    }
   ],
   "source": [
    "# Autor: Hugo Edson de Souza\n",
    "# Turma 1 - Curso de Admissão\n",
    "# Data: 08/09/2022 09:20pm\n",
    "\n",
    "aList = []\n",
    "\n",
    "rang = int(input(\"Type how many items you want to add to the cart: \"))\n",
    "\n",
    "for i in range(0, rang):\n",
    "    aList.append(input(f\"Type the name of the product {i.__index__()}: \"))\n",
    "    \n",
    "print(aList)\n",
    "\n",
    "condition = True\n",
    "\n",
    "while condition == True:\n",
    "    choice = input(\"Do you want to add, remove, show or exit the list? \")\n",
    "    if choice == \"add\":\n",
    "        aList.append(input(\"Type the name of the product: \"))\n",
    "    elif choice == \"remove\":\n",
    "        aList.remove(input(\"Type the name of the product to be removed: \"))\n",
    "    elif choice == \"show\":\n",
    "        print(aList)\n",
    "    elif choice == \"exit\":\n",
    "        exit()"
   ]
  }
 ],
 "metadata": {
  "kernelspec": {
   "display_name": "Python 3.10.4 64-bit",
   "language": "python",
   "name": "python3"
  },
  "language_info": {
   "codemirror_mode": {
    "name": "ipython",
    "version": 3
   },
   "file_extension": ".py",
   "mimetype": "text/x-python",
   "name": "python",
   "nbconvert_exporter": "python",
   "pygments_lexer": "ipython3",
   "version": "3.10.4"
  },
  "orig_nbformat": 4,
  "vscode": {
   "interpreter": {
    "hash": "916dbcbb3f70747c44a77c7bcd40155683ae19c65e1c03b4aa3499c5328201f1"
   }
  }
 },
 "nbformat": 4,
 "nbformat_minor": 2
}
