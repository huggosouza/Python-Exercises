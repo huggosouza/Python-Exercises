{
 "cells": [
  {
   "cell_type": "markdown",
   "metadata": {},
   "source": [
    "Aluno: Hugo Edson de Souza<br>\n",
    "Aula 5: Prática 5\n",
    "\n",
    "<h1>Laços de repetição</h1>\n",
    "<p>São estruturas de controle que executam um bloco de instruções enquanto determinada condição for atendida.<br></p>"
   ]
  },
  {
   "cell_type": "code",
   "execution_count": 4,
   "metadata": {},
   "outputs": [
    {
     "name": "stdout",
     "output_type": "stream",
     "text": [
      "-3\n",
      "-2\n",
      "-1\n",
      "0\n",
      "1\n",
      "2\n",
      "3\n"
     ]
    }
   ],
   "source": [
    "for i in range(-3, 4):\n",
    "    print(i)"
   ]
  },
  {
   "cell_type": "markdown",
   "metadata": {},
   "source": [
    "Em mais um exemplo, vou iterar um dicionário, exibindo os valores e as chaves"
   ]
  },
  {
   "cell_type": "code",
   "execution_count": 6,
   "metadata": {},
   "outputs": [
    {
     "name": "stdout",
     "output_type": "stream",
     "text": [
      "1 : Felipe\n",
      "2 : Marcelo\n",
      "3 : Gustavo\n"
     ]
    }
   ],
   "source": [
    "alunos_dict = {1: \"Felipe\", 2: \"Marcelo\", 3: \"Gustavo\"}\n",
    "\n",
    "for k, v in alunos_dict.items():\n",
    "    print(f\"{k} : {v}\")"
   ]
  },
  {
   "cell_type": "markdown",
   "metadata": {},
   "source": [
    "Ou podemos fazer um loop infinito (muito cuidado com esse !)"
   ]
  },
  {
   "cell_type": "code",
   "execution_count": null,
   "metadata": {},
   "outputs": [],
   "source": [
    "while True:\n",
    "    print(i)\n",
    "    i + 1"
   ]
  },
  {
   "cell_type": "code",
   "execution_count": 8,
   "metadata": {},
   "outputs": [
    {
     "name": "stdout",
     "output_type": "stream",
     "text": [
      "1\n",
      "20\n",
      "30\n",
      "41\n",
      "29\n",
      "30\n",
      "40\n"
     ]
    }
   ],
   "source": [
    "# Iterando os objetos de uma lista\n",
    "\n",
    "lista = [1, 20, 30, 41, 29, 30, 40]\n",
    "\n",
    "for i in lista:\n",
    "    print(i)"
   ]
  },
  {
   "cell_type": "code",
   "execution_count": 9,
   "metadata": {},
   "outputs": [
    {
     "name": "stdout",
     "output_type": "stream",
     "text": [
      "191\n"
     ]
    }
   ],
   "source": [
    "# Iterando e fazendo operações com eles agora\n",
    "\n",
    "lista = [1, 20, 30, 41, 29, 30, 40]\n",
    "calc = 0\n",
    "\n",
    "for i in lista:\n",
    "    calc = calc + i\n",
    "    \n",
    "print(calc)"
   ]
  }
 ],
 "metadata": {
  "kernelspec": {
   "display_name": "Python 3.10.4 64-bit",
   "language": "python",
   "name": "python3"
  },
  "language_info": {
   "codemirror_mode": {
    "name": "ipython",
    "version": 3
   },
   "file_extension": ".py",
   "mimetype": "text/x-python",
   "name": "python",
   "nbconvert_exporter": "python",
   "pygments_lexer": "ipython3",
   "version": "3.10.4"
  },
  "orig_nbformat": 4,
  "vscode": {
   "interpreter": {
    "hash": "916dbcbb3f70747c44a77c7bcd40155683ae19c65e1c03b4aa3499c5328201f1"
   }
  }
 },
 "nbformat": 4,
 "nbformat_minor": 2
}
